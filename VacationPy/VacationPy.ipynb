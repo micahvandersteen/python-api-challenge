{
 "cells": [
  {
   "cell_type": "markdown",
   "metadata": {},
   "source": [
    "\"\"\"\n",
    "Author: \n",
    "Micah vandersteen\n",
    "\n",
    "Date:\n",
    "25 January 2020\n",
    "\"\"\""
   ]
  },
  {
   "cell_type": "code",
   "execution_count": null,
   "metadata": {},
   "outputs": [],
   "source": [
    "# IMPORTING DEPENDENCIES \n",
    "import matplotlib.pyplot as plt\n",
    "import pandas as pd\n",
    "import numpy as np\n",
    "import requests\n",
    "import gmaps\n",
    "from pprint import pprint\n",
    "import os\n",
    "\n",
    "# IMPORT API KEY\n",
    "from config import g_key"
   ]
  },
  {
   "cell_type": "markdown",
   "metadata": {},
   "source": [
    "Store Part I results into DataFrame\n",
    "--> Load the csv exported in Part I to a DataFrame"
   ]
  },
  {
   "cell_type": "code",
   "execution_count": null,
   "metadata": {},
   "outputs": [],
   "source": [
    "# READING IN RESULTS FROM WEATHERPY SCRIPT OUTPUTFILE FROM THE OUTPUT DATA FOLDER\n",
    "weather_df = pd.read_csv(\"../output_data/weather.csv\")\n",
    "weather_df.head()"
   ]
  },
  {
   "cell_type": "markdown",
   "metadata": {},
   "source": [
    "Create a Humidity Heatmap using the found cities and their humidities."
   ]
  },
  {
   "cell_type": "code",
   "execution_count": null,
   "metadata": {},
   "outputs": [],
   "source": [
    "# CONFIGURE GMAPS WITH API KEY\n",
    "gmaps.configure(api_key = g_key)\n",
    "\n",
    "# STORING LATITUDE AND LONGITUDE INTO LOCATIONS LIST\n",
    "locations = weather_df[[\"Latitude\", \"Longitude\"]].astype(float)\n",
    "humidity = weather_df[\"Humidity (%)\"].astype(float)\n",
    "\n",
    "# CREATING HEATMAP OF FOUND CITIES' HUMIDITY PERCENTAGES\n",
    "fig = gmaps.Map()\n",
    "\n",
    "heatmap_layer = gmaps.heatmap_layer(locations,\n",
    "                                    weights = humidity, \n",
    "                                    dissipating = False,\n",
    "                                    max_intensity = 100,\n",
    "                                    point_radius = 2)\n",
    "\n",
    "fig.add_layer(heatmap_layer)\n",
    "\n",
    "fig\n",
    "\n"
   ]
  },
  {
   "cell_type": "markdown",
   "metadata": {},
   "source": [
    "Create new DataFrame fitting weather criteria:\n",
    "\n",
    "A max temperature lower than 90 degrees but higher than 75.\n",
    "Wind speed less than 5 mph.\n",
    "Less than 25 % cloudiness.\n",
    "Drop any rows that don't contain all three conditions. You want to be sure the weather is ideal.\n"
   ]
  },
  {
   "cell_type": "code",
   "execution_count": null,
   "metadata": {},
   "outputs": [],
   "source": [
    "# LOCATING ROWS THAT FIT ALL THREE SPECIFICATIONS DEFINED ABOVE\n",
    "ideal_cities_df = weather_df.loc[(weather_df[\"Cloudiness (%)\"] < 25) & (weather_df[\"Wind Speed (MPH)\"] < 5) & (weather_df[\"Temperature (F)\"] > 75) & (weather_df[\"Temperature (F)\"] < 90)]\n"
   ]
  },
  {
   "cell_type": "code",
   "execution_count": null,
   "metadata": {},
   "outputs": [],
   "source": [
    "# showing ideal cities dataframe\n",
    "ideal_cities_df"
   ]
  },
  {
   "cell_type": "code",
   "execution_count": null,
   "metadata": {},
   "outputs": [],
   "source": [
    "# USE GOOGLE PLACES API TO FIND NEAREST HOTEL (WITHIN 5000 METERS) TO EACH IDEAL WEATHER CITY FROM 'ideal_cities_df'\n",
    "# INITIALIZING A LIST OF MY IDEAL CITIES COORDINATES\n",
    "ideal_cities_longitudes = list(ideal_cities_df[\"Longitude\"])\n",
    "\n",
    "ideal_cities_latitudes = list(ideal_cities_df[\"Latitude\"])\n",
    "\n",
    "# DEFINING WHAT TO SEARCH FOR, SEARCH RADIUS IN METERS\n",
    "search_for = \"lodging\"\n",
    "\n",
    "search_radius = \"5000\"\n",
    "\n",
    "# ITERATION VARIABLE \n",
    "i = 0 \n",
    "\n",
    "# DEFINING DESIRED VARIABLE LISTS TO GET FROM API INFORMATION\n",
    "hotel_names = []\n",
    "\n",
    "# FOR LOOP TO QUERY NEAREST HOTEL IN EACH IDEAL CITY\n",
    "for i in np.arange(len(ideal_cities_df[\"Longitude\"])):\n",
    "    \n",
    "    \n",
    "    # BASE URL FOR GOOGLE PLACE API CALL\n",
    "    base_url = f\"https://maps.googleapis.com/maps/api/place/nearbysearch/json?location={ideal_cities_latitudes[i]},\\\n",
    "            {ideal_cities_longitudes[i]}&radius={search_radius}&type={search_for}&key={g_key}\"\n",
    "    \n",
    "    # GET RESPONSE AND JSONIFY\n",
    "    response = requests.get(base_url).json()\n",
    "    \n",
    "    # APPENDING APPROPRIATE RESPONSES TO CORRESPONDING LISTS\n",
    "    hotel_names.append(response['results'][0]['name'])\n",
    "    \n",
    "    i+=1"
   ]
  },
  {
   "cell_type": "code",
   "execution_count": null,
   "metadata": {},
   "outputs": [],
   "source": [
    "# ADDING HOTEL NAME COLUMN TO IDEAL CITIES DATAFRAME USING THE FOUND HOTELS IN 'hotel_names' list\n",
    "ideal_cities_df[\"Hotel Name\"] = hotel_names"
   ]
  },
  {
   "cell_type": "code",
   "execution_count": null,
   "metadata": {},
   "outputs": [],
   "source": [
    "# SHOWING NEW DATAFRAME\n",
    "ideal_cities_df"
   ]
  },
  {
   "cell_type": "code",
   "execution_count": null,
   "metadata": {},
   "outputs": [],
   "source": [
    "# ADD HOTEL NAMES TO THE LOCATIONS ON ORIGINAL HEATMAP\n",
    "# ASSIGNING MARKER VARIABLE\n",
    "coordinates = ideal_cities_df[[\"Latitude\", \"Longitude\"]].astype(float)\n",
    "city_names = list(ideal_cities_df[\"City Name\"])\n",
    "\n",
    "i = 0 \n",
    "\n",
    "info_boxes = []\n",
    "\n",
    "for i in np.arange(len(hotel_names)):\n",
    "    \n",
    "    info_boxes.append(f\"\"\"\n",
    "    HOTEL NAME:\n",
    "    {hotel_names[i]}\n",
    "    \n",
    "    CITY NAME:\n",
    "    {city_names[i]}\n",
    "    \"\"\")\n",
    "    \n",
    "    i+=1\n",
    "    \n",
    "markers = gmaps.marker_layer(coordinates,\n",
    "                            info_box_content = info_boxes)\n",
    "# Add the layer to the map\n",
    "fig.add_layer(markers)\n",
    "\n",
    "fig"
   ]
  },
  {
   "cell_type": "code",
   "execution_count": null,
   "metadata": {},
   "outputs": [],
   "source": []
  },
  {
   "cell_type": "code",
   "execution_count": null,
   "metadata": {},
   "outputs": [],
   "source": []
  }
 ],
 "metadata": {
  "kernelspec": {
   "display_name": "Python 3",
   "language": "python",
   "name": "python3"
  },
  "language_info": {
   "codemirror_mode": {
    "name": "ipython",
    "version": 3
   },
   "file_extension": ".py",
   "mimetype": "text/x-python",
   "name": "python",
   "nbconvert_exporter": "python",
   "pygments_lexer": "ipython3",
   "version": "3.6.9"
  }
 },
 "nbformat": 4,
 "nbformat_minor": 4
}
